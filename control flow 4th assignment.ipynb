{
 "cells": [
  {
   "cell_type": "code",
   "execution_count": null,
   "id": "3e9c7dc9-2f0d-4248-9528-f6516a9ea52d",
   "metadata": {},
   "outputs": [],
   "source": [
    "1.create a python program to check if a given n umber is positive or negative"
   ]
  },
  {
   "cell_type": "code",
   "execution_count": 6,
   "id": "cc0b86c2-1da9-4756-831b-a6e4f83b2c62",
   "metadata": {},
   "outputs": [
    {
     "name": "stdin",
     "output_type": "stream",
     "text": [
      "enter a numnber -2\n"
     ]
    },
    {
     "name": "stdout",
     "output_type": "stream",
     "text": [
      "negative\n"
     ]
    }
   ],
   "source": [
    "a=int(input('enter a numnber'))\n",
    "if a>=0:\n",
    "    print(\"positive\")\n",
    "else:\n",
    "    print(\"negative\")"
   ]
  },
  {
   "cell_type": "code",
   "execution_count": null,
   "id": "975c3ffa-602b-4755-ad7d-d27425397070",
   "metadata": {},
   "outputs": [],
   "source": [
    "2.create a program that determines if a person is eligible to vote on their age"
   ]
  },
  {
   "cell_type": "code",
   "execution_count": 7,
   "id": "98b9e83c-73a7-49c4-94ee-59846ff71875",
   "metadata": {},
   "outputs": [
    {
     "name": "stdin",
     "output_type": "stream",
     "text": [
      "enter age 12\n"
     ]
    },
    {
     "name": "stdout",
     "output_type": "stream",
     "text": [
      "not eligible for vote\n"
     ]
    }
   ],
   "source": [
    "a=int(input('enter age'))\n",
    "if a>=18:\n",
    "    print(\"eligible for vote\")\n",
    "else:\n",
    "    print(\"not eligible for vote\")"
   ]
  },
  {
   "cell_type": "code",
   "execution_count": null,
   "id": "1620e75b-df18-4a12-8f72-22a9e8f7cfc4",
   "metadata": {},
   "outputs": [],
   "source": [
    "3.develop a program to find the max of two numbers using if-else statements"
   ]
  },
  {
   "cell_type": "code",
   "execution_count": 11,
   "id": "ca5a286d-ad2a-497e-b2ae-115f1c570fe6",
   "metadata": {},
   "outputs": [
    {
     "name": "stdin",
     "output_type": "stream",
     "text": [
      "enter first number 2\n",
      "enter second number 45\n"
     ]
    },
    {
     "name": "stdout",
     "output_type": "stream",
     "text": [
      "b is maximunm\n"
     ]
    }
   ],
   "source": [
    "a=int(input('enter first number'))\n",
    "b=int(input('enter second number'))\n",
    "if a>b:\n",
    "    print('a  is maximum')\n",
    "else:\n",
    "    print('b is maximunm')\n"
   ]
  },
  {
   "cell_type": "code",
   "execution_count": null,
   "id": "4ef1bcd0-a3f7-4812-91dd-9712ea778b3c",
   "metadata": {},
   "outputs": [],
   "source": [
    "4.write a python script to classify given years as leap year or not"
   ]
  },
  {
   "cell_type": "code",
   "execution_count": 17,
   "id": "5294db87-6961-4a43-a3e6-47ad9fb4670d",
   "metadata": {},
   "outputs": [
    {
     "name": "stdin",
     "output_type": "stream",
     "text": [
      "enter year 2010\n"
     ]
    },
    {
     "name": "stdout",
     "output_type": "stream",
     "text": [
      "not leap year\n"
     ]
    }
   ],
   "source": [
    "a=int(input('enter year'))\n",
    "if (a%4==0 and a%100!=0) or a%400==0:\n",
    "    print('leap year')\n",
    "else:\n",
    "    print(\"not leap year\")\n"
   ]
  },
  {
   "cell_type": "code",
   "execution_count": null,
   "id": "83c5da6e-4b19-4563-8d31-703c340bf786",
   "metadata": {},
   "outputs": [],
   "source": [
    "5.create a program that checks whether a character is a vowel or a consonat"
   ]
  },
  {
   "cell_type": "code",
   "execution_count": 24,
   "id": "30157cd0-9da7-46bb-bdd7-b4176fa8d2d4",
   "metadata": {},
   "outputs": [
    {
     "name": "stdin",
     "output_type": "stream",
     "text": [
      "enter character Z\n"
     ]
    },
    {
     "name": "stdout",
     "output_type": "stream",
     "text": [
      "consonant\n"
     ]
    }
   ],
   "source": [
    "a=input('enter character')\n",
    "\n",
    "vowels=['a','e','i','o','u','A','E,''I','O','U']\n",
    "if a in vowels:\n",
    "    print(\"char is vowel\")\n",
    "else:\n",
    "    print(\"consonant\")"
   ]
  },
  {
   "cell_type": "code",
   "execution_count": null,
   "id": "57cb5309-9d8c-4f89-b742-9ff827ca22c6",
   "metadata": {},
   "outputs": [],
   "source": [
    "6.implement a program to dtermine whether a given number is even or odd"
   ]
  },
  {
   "cell_type": "code",
   "execution_count": 28,
   "id": "1caa42b3-630b-474d-9d8c-d30f3b6fdfda",
   "metadata": {},
   "outputs": [],
   "source": [
    "def even_odd(n):\n",
    "    if n%2==0:\n",
    "        return 'even'\n",
    "    else:\n",
    "        return 'odd'"
   ]
  },
  {
   "cell_type": "code",
   "execution_count": 30,
   "id": "cebee6ed-7462-4fe4-b158-c9c7f23d2cfb",
   "metadata": {},
   "outputs": [
    {
     "data": {
      "text/plain": [
       "'odd'"
      ]
     },
     "execution_count": 30,
     "metadata": {},
     "output_type": "execute_result"
    }
   ],
   "source": [
    "even_odd(99)"
   ]
  },
  {
   "cell_type": "code",
   "execution_count": 31,
   "id": "657c5a50-ceff-40ef-91fd-bb23a4818e72",
   "metadata": {},
   "outputs": [
    {
     "data": {
      "text/plain": [
       "'odd'"
      ]
     },
     "execution_count": 31,
     "metadata": {},
     "output_type": "execute_result"
    }
   ],
   "source": [
    "even_odd(99)"
   ]
  },
  {
   "cell_type": "code",
   "execution_count": null,
   "id": "20901a35-d1ee-4fc1-97a4-f945ebecdcaa",
   "metadata": {},
   "outputs": [],
   "source": [
    "7.write a python function to calculate the absolute value of a number without using absolute function"
   ]
  },
  {
   "cell_type": "code",
   "execution_count": 34,
   "id": "86f7098f-1021-498e-9213-d3ba1d7207be",
   "metadata": {},
   "outputs": [
    {
     "name": "stdin",
     "output_type": "stream",
     "text": [
      "enter number -23\n"
     ]
    },
    {
     "name": "stdout",
     "output_type": "stream",
     "text": [
      "23\n"
     ]
    }
   ],
   "source": [
    "a=int(input('enter number'))\n",
    "if a<0:\n",
    "    b=-(a)\n",
    "    print(b)\n",
    "else:\n",
    "    print(a)"
   ]
  },
  {
   "cell_type": "code",
   "execution_count": null,
   "id": "27aba626-9503-4f54-85be-269d6e81ca71",
   "metadata": {},
   "outputs": [],
   "source": [
    "8.develop a program that determines the largest of three given numbers using if-else statements"
   ]
  },
  {
   "cell_type": "code",
   "execution_count": 36,
   "id": "3d62781d-4b08-4d24-8a64-48bac0424cbd",
   "metadata": {},
   "outputs": [
    {
     "name": "stdin",
     "output_type": "stream",
     "text": [
      "enter first number 100\n",
      "enter second number 23\n",
      "enter third number 45\n"
     ]
    },
    {
     "name": "stdout",
     "output_type": "stream",
     "text": [
      "a  is largest\n"
     ]
    }
   ],
   "source": [
    "a=int(input('enter first number'))\n",
    "b=int(input('enter second number'))\n",
    "c=int(input('enter third number'))\n",
    "if a>b and a>c:\n",
    "    print('a  is largest')\n",
    "elif b>a and b>c:\n",
    "    print('b is largest')\n",
    "else:\n",
    "    print('c is largest')"
   ]
  },
  {
   "cell_type": "code",
   "execution_count": null,
   "id": "4722245a-01a5-4d7f-ae36-c557e6e4ae54",
   "metadata": {},
   "outputs": [],
   "source": [
    "9.create a program that checks if a given string is a palindrome"
   ]
  },
  {
   "cell_type": "code",
   "execution_count": 40,
   "id": "8b53cad7-f26a-461a-ac6c-c691d90e885a",
   "metadata": {},
   "outputs": [
    {
     "name": "stdin",
     "output_type": "stream",
     "text": [
      "enter a string racecar\n"
     ]
    },
    {
     "name": "stdout",
     "output_type": "stream",
     "text": [
      "string is palindrome\n"
     ]
    }
   ],
   "source": [
    "a=input('enter a string')\n",
    "if a[::-1]==a:\n",
    "    print('string is palindrome')\n",
    "else:\n",
    "    print('string is not palindrome')"
   ]
  },
  {
   "cell_type": "code",
   "execution_count": null,
   "id": "1f3d5b46-6abd-46b9-9ae9-1c047cc0c4c9",
   "metadata": {},
   "outputs": [],
   "source": [
    "10.write  apython program to calculate the grade based on a students score"
   ]
  },
  {
   "cell_type": "code",
   "execution_count": 42,
   "id": "63e81294-c021-46ef-8258-7b733965514f",
   "metadata": {},
   "outputs": [
    {
     "name": "stdin",
     "output_type": "stream",
     "text": [
      "enter score 88\n"
     ]
    },
    {
     "name": "stdout",
     "output_type": "stream",
     "text": [
      "A\n"
     ]
    }
   ],
   "source": [
    "score=int(input('enter score'))\n",
    "if 90<=score>=100:\n",
    "    print('A+')\n",
    "elif 80<=score <=90:\n",
    "    print('A')\n",
    "elif score>=70:\n",
    "    print('B')\n",
    "elif score>=60:\n",
    "    print('C')\n",
    "elif score>=50:\n",
    "    print('D')\n",
    "else:\n",
    "    print('FAIL')\n",
    "    \n"
   ]
  },
  {
   "cell_type": "code",
   "execution_count": null,
   "id": "24417a3b-ce3a-4fa3-bbe2-dba70d05fdd7",
   "metadata": {},
   "outputs": [],
   "source": [
    "NESTED IF-ELSE"
   ]
  },
  {
   "cell_type": "code",
   "execution_count": null,
   "id": "c8cef995-12ed-4ad7-ab78-ad7493f67d82",
   "metadata": {},
   "outputs": [],
   "source": [
    "11.WRITE A PROGRAM TO FIND THE LARGEST AMONG THREE NUMBERS USING NESTED IF-ELSE STATEMENTS"
   ]
  },
  {
   "cell_type": "code",
   "execution_count": 50,
   "id": "2c469417-47df-4bc3-914e-47f398fbed56",
   "metadata": {},
   "outputs": [
    {
     "name": "stdin",
     "output_type": "stream",
     "text": [
      "enter first number 10\n",
      "enter second number 200\n",
      "enter third number 450\n"
     ]
    },
    {
     "name": "stdout",
     "output_type": "stream",
     "text": [
      "450\n"
     ]
    }
   ],
   "source": [
    "a=int(input('enter first number'))\n",
    "b=int(input('enter second number'))\n",
    "c=int(input('enter third number'))\n",
    "if a>b:\n",
    "    if a>c:\n",
    "        largest=a\n",
    "    else:\n",
    "        largest=c\n",
    "elif b>a:\n",
    "    if b>c:\n",
    "        largest=b\n",
    "    else:\n",
    "        largest=c\n",
    "else:\n",
    "    largest=b\n",
    "print(largest)"
   ]
  },
  {
   "cell_type": "code",
   "execution_count": null,
   "id": "b69e41c3-04a0-4f9c-98c8-914b7c952f71",
   "metadata": {},
   "outputs": [],
   "source": [
    "12.implement a program to determine if a triangle is quilateral,isoscels or scalene"
   ]
  },
  {
   "cell_type": "code",
   "execution_count": 2,
   "id": "0594ee2b-c397-42f8-99cf-ef07a57c7336",
   "metadata": {},
   "outputs": [
    {
     "name": "stdin",
     "output_type": "stream",
     "text": [
      "enter first side 2\n",
      "enter second side 2\n",
      "enter third side 5\n"
     ]
    },
    {
     "name": "stdout",
     "output_type": "stream",
     "text": [
      "isosceles\n"
     ]
    }
   ],
   "source": [
    "a=int(input('enter first side'))\n",
    "b=int(input('enter second side'))\n",
    "c=int(input('enter third side'))\n",
    "if a==b:\n",
    "    if b==c:\n",
    "        print(\"equilateral\")\n",
    "    else:\n",
    "        print(\"isosceles\")\n",
    "else:\n",
    "    print(\"scalene\")  \n"
   ]
  },
  {
   "cell_type": "code",
   "execution_count": null,
   "id": "4b7f682e-dff5-45c4-ae8d-11073b3f742a",
   "metadata": {},
   "outputs": [],
   "source": [
    "13.develop a program that checks if a year is a leap year and also if it is a century year"
   ]
  },
  {
   "cell_type": "code",
   "execution_count": 18,
   "id": "cec44f9c-8c70-42da-a583-44fac09d0fd8",
   "metadata": {},
   "outputs": [],
   "source": [
    "def is_leap(year):\n",
    "    if year % 4 == 0:\n",
    "        if year % 100 == 0:\n",
    "            if year % 400 == 0:\n",
    "                print(f\"{year} is a leap year and a century year.\")\n",
    "            else:\n",
    "                print(f\"{year} is not a leap year and a century year.\")\n",
    "            \n",
    "        else:\n",
    "            print(f\"{year} is a leap year and not a century year.\")\n",
    "    else:\n",
    "        print(f\"{year} is not a leap year and not a century year.\")\n",
    "\n",
    "\n"
   ]
  },
  {
   "cell_type": "code",
   "execution_count": 19,
   "id": "3871330d-bc12-45d7-8247-4f8ba52d5fc1",
   "metadata": {},
   "outputs": [
    {
     "name": "stdout",
     "output_type": "stream",
     "text": [
      "2000 is a leap year and a century year.\n"
     ]
    }
   ],
   "source": [
    "is_leap(2000)"
   ]
  },
  {
   "cell_type": "code",
   "execution_count": 20,
   "id": "dc06f85d-400c-4de4-9cc3-30adeb546b5f",
   "metadata": {},
   "outputs": [
    {
     "name": "stdout",
     "output_type": "stream",
     "text": [
      "1900 is not a leap year and a century year.\n"
     ]
    }
   ],
   "source": [
    "is_leap(1900)"
   ]
  },
  {
   "cell_type": "markdown",
   "id": "26cdb085-b111-4065-9934-0b8489d046ea",
   "metadata": {},
   "source": [
    "14.write a python script to determine if a number is positive,negative or zero"
   ]
  },
  {
   "cell_type": "code",
   "execution_count": 29,
   "id": "88b6a417-58bf-439b-b4d8-36804347dfc3",
   "metadata": {},
   "outputs": [
    {
     "name": "stdin",
     "output_type": "stream",
     "text": [
      "enter a number 230\n"
     ]
    },
    {
     "name": "stdout",
     "output_type": "stream",
     "text": [
      "positive\n"
     ]
    }
   ],
   "source": [
    "n=int(input(\"enter a number\"))\n",
    "if n!=0:\n",
    "    if n<0:\n",
    "        print(\"negative\")\n",
    "    else:\n",
    "        print(\"positive\")\n",
    "else:\n",
    "    print(\"zero\")\n",
    "        "
   ]
  },
  {
   "cell_type": "markdown",
   "id": "96cb023d-167b-444e-9601-d74613681f99",
   "metadata": {},
   "source": [
    "15.create a program to check if a person is a teenager (between 13 and 19 years old)\n"
   ]
  },
  {
   "cell_type": "code",
   "execution_count": 41,
   "id": "b7cecffb-bada-48ea-b434-699fe51415ab",
   "metadata": {},
   "outputs": [
    {
     "name": "stdin",
     "output_type": "stream",
     "text": [
      "enter a age 14\n"
     ]
    },
    {
     "name": "stdout",
     "output_type": "stream",
     "text": [
      "teenage\n"
     ]
    }
   ],
   "source": [
    "n=int(input(\"enter a age\"))\n",
    "if n>=13:\n",
    "    if n<=19:\n",
    "        print(\"teenage\")\n",
    "    else: \n",
    "        print(\"elder\")\n",
    "else:\n",
    "      print(\"children\")"
   ]
  },
  {
   "cell_type": "markdown",
   "id": "127c6dbf-ef74-4d21-9d8b-b91b3afe3e21",
   "metadata": {},
   "source": [
    "16.develop a program that determines the type of angle based on its measure (acute,abtuse or right)"
   ]
  },
  {
   "cell_type": "code",
   "execution_count": 78,
   "id": "ab2a0617-2c1e-4f38-9c5e-9de7df92aac2",
   "metadata": {},
   "outputs": [],
   "source": [
    "def find_triangle(measure):\n",
    "    \n",
    "    if measure ==90:\n",
    "        print(\"right angle\")\n",
    "    elif measure>90 and measure<180:\n",
    "        print(\"obtuse\")\n",
    "    else:\n",
    "        print(\"acute\")\n",
    "        "
   ]
  },
  {
   "cell_type": "code",
   "execution_count": 80,
   "id": "322b803e-d054-4ba0-8dc5-ebbf0252bb63",
   "metadata": {},
   "outputs": [
    {
     "name": "stdout",
     "output_type": "stream",
     "text": [
      "obtuse\n"
     ]
    }
   ],
   "source": [
    "find_triangle(178)"
   ]
  },
  {
   "cell_type": "code",
   "execution_count": null,
   "id": "4850ca99-d783-41ec-be51-18fc6c09be8b",
   "metadata": {},
   "outputs": [],
   "source": [
    "17.write a python program to calculate roots of quadratic equation"
   ]
  },
  {
   "cell_type": "code",
   "execution_count": 4,
   "id": "ab57be23-932a-490f-a285-23053e4a447a",
   "metadata": {},
   "outputs": [
    {
     "name": "stdin",
     "output_type": "stream",
     "text": [
      "enter coefficient of a 8\n",
      "enter coefficient of b 5\n",
      "enter coefficient of c 9\n"
     ]
    },
    {
     "name": "stdout",
     "output_type": "stream",
     "text": [
      "6.313708498984761\n",
      "-16.31370849898476\n"
     ]
    }
   ],
   "source": [
    "import math\n",
    "a=int(input(\"enter coefficient of a\"))\n",
    "b=int(input(\"enter coefficient of b\"))\n",
    "c=int(input(\"enter coefficient of c\"))\n",
    "\n",
    "determinant=(b**2)-(4*a*c)\n",
    "root1=(-b+(math.sqrt(a))/2*a)\n",
    "root2=(-b-(math.sqrt(a))/2*a)\n",
    "print(root1)\n",
    "print(root2)"
   ]
  },
  {
   "cell_type": "code",
   "execution_count": null,
   "id": "8c61f419-32f9-422b-b208-050cc6ba108b",
   "metadata": {},
   "outputs": [],
   "source": [
    "18.implement a program to determine the day of the week based on user provided number"
   ]
  },
  {
   "cell_type": "code",
   "execution_count": 29,
   "id": "b295e61d-0442-4778-9ab2-5e66d144d798",
   "metadata": {},
   "outputs": [
    {
     "name": "stdin",
     "output_type": "stream",
     "text": [
      "enter a number of day in a week 7\n"
     ]
    },
    {
     "name": "stdout",
     "output_type": "stream",
     "text": [
      "sun\n"
     ]
    }
   ],
   "source": [
    "n=int(input(\"enter a number of day in a week\"))\n",
    "list=[\"monday\",\"tuesday\",\"wed\",\"thur\",\"fri\",\"sat\",\"sun\"]\n",
    "if n>=1 and n<=7:\n",
    "    b=list[n-1]\n",
    "    print(b)\n",
    "else:\n",
    "    print(\"enter correct value between 1 and 8\")"
   ]
  },
  {
   "cell_type": "code",
   "execution_count": null,
   "id": "135dad1d-76ba-4d8b-8e57-8d12444e4065",
   "metadata": {},
   "outputs": [],
   "source": [
    "19.create a program that determines if a year is a leap year and also if it is evenly divisible by 400"
   ]
  },
  {
   "cell_type": "code",
   "execution_count": 16,
   "id": "ff10129c-2715-4295-ab66-190e6cb95c8e",
   "metadata": {},
   "outputs": [
    {
     "name": "stdin",
     "output_type": "stream",
     "text": [
      "enter a year 2004\n"
     ]
    },
    {
     "name": "stdout",
     "output_type": "stream",
     "text": [
      "leap year and not divisible by 100 and 400\n"
     ]
    }
   ],
   "source": [
    "n=int(input(\"enter a year\"))\n",
    "if n%4==0:\n",
    "    if n%100!=0:\n",
    "        if n%400==0:\n",
    "            print(\"leap year and divisible by 400\")\n",
    "        else:\n",
    "            print(\"leap year and not divisible by 100 and 400\")\n",
    "    else:\n",
    "        print(\"leap yearand divisible by 100 and 400\")\n",
    "else: \n",
    "    print(\"not a leap year and not divisible by 4\")\n",
    "    \n"
   ]
  },
  {
   "cell_type": "code",
   "execution_count": null,
   "id": "64c866f3-d241-4130-af5f-9f502a88aba5",
   "metadata": {},
   "outputs": [],
   "source": [
    "20.develop a program that checks if a given number is prime or not using nested if-else staements"
   ]
  },
  {
   "cell_type": "code",
   "execution_count": 56,
   "id": "a6cdd0bf-e8f9-48c2-aaec-b8c1c4e2a3c1",
   "metadata": {},
   "outputs": [
    {
     "name": "stdin",
     "output_type": "stream",
     "text": [
      "enter a number 17\n"
     ]
    },
    {
     "name": "stdout",
     "output_type": "stream",
     "text": [
      "prime\n"
     ]
    }
   ],
   "source": [
    "n=int(input(\"enter a number\"))\n",
    "if n<=1:\n",
    "    print(\"not prime\")\n",
    "elif n==2:\n",
    "    print(\"prime\")\n",
    "else:\n",
    "    for i in range(2,n):\n",
    "        if n%i==0:\n",
    "            print(\"not prime\")\n",
    "        else:\n",
    "            print(\"prime\")\n",
    "        break\n",
    "        "
   ]
  },
  {
   "cell_type": "code",
   "execution_count": null,
   "id": "f68eab0b-c173-4015-9aac-5f78e3abea2c",
   "metadata": {},
   "outputs": [],
   "source": [
    "21.write a python code to assign grades based on different ranges of scores using elif statements"
   ]
  },
  {
   "cell_type": "code",
   "execution_count": null,
   "id": "60d432a7-a0ae-4b08-9bda-a5b9fe910591",
   "metadata": {},
   "outputs": [
    {
     "name": "stdin",
     "output_type": "stream",
     "text": [
      "enter score 65\n"
     ]
    },
    {
     "name": "stdout",
     "output_type": "stream",
     "text": [
      "C\n"
     ]
    }
   ],
   "source": [
    "score=int(input('enter score'))\n",
    "if 90<=score>=100:\n",
    "    print('A+')\n",
    "elif 80<=score <=90:\n",
    "    print('A')\n",
    "elif score>=70:\n",
    "    print('B')\n",
    "elif score>=60:\n",
    "    print('C')\n",
    "elif score>=50:\n",
    "    print('D')\n",
    "else:\n",
    "    print('FAIL')\n",
    "    "
   ]
  },
  {
   "cell_type": "code",
   "execution_count": null,
   "id": "a5922e87-4f11-4ab7-8408-6dc3c57e8251",
   "metadata": {},
   "outputs": [],
   "source": [
    "22.implement a program to determine the type of triangle based on its angles"
   ]
  },
  {
   "cell_type": "code",
   "execution_count": 5,
   "id": "8ae0ecda-6976-4341-99c1-9272af973f9b",
   "metadata": {},
   "outputs": [],
   "source": [
    "def t(a,b,c):\n",
    "    x=[a,b,c]\n",
    "    x.sort()\n",
    "    if sum(x)==180:\n",
    "        if x[2]<90:\n",
    "            print(\"acute triangle\")\n",
    "        elif x[2]==90:\n",
    "            print(\"right angled triangle\")\n",
    "        elif x[2]>90:\n",
    "            print(\"obtuse\")\n",
    "    else:\n",
    "        print(\"not atriangle\")"
   ]
  },
  {
   "cell_type": "code",
   "execution_count": 6,
   "id": "c6c0c459-ed91-4f8d-93a2-747edcc6e71b",
   "metadata": {},
   "outputs": [
    {
     "name": "stdout",
     "output_type": "stream",
     "text": [
      "acute triangle\n"
     ]
    }
   ],
   "source": [
    "t(85,25,70)"
   ]
  },
  {
   "cell_type": "code",
   "execution_count": 7,
   "id": "9976f887-8340-4358-a4ee-c3573470eb28",
   "metadata": {},
   "outputs": [
    {
     "name": "stdout",
     "output_type": "stream",
     "text": [
      "obtuse\n"
     ]
    }
   ],
   "source": [
    "t(100,40,40)"
   ]
  },
  {
   "cell_type": "code",
   "execution_count": 8,
   "id": "783763cd-bb5a-422c-8f5f-f80311692a4a",
   "metadata": {},
   "outputs": [
    {
     "name": "stdout",
     "output_type": "stream",
     "text": [
      "right angled triangle\n"
     ]
    }
   ],
   "source": [
    "t(90,45,45)"
   ]
  },
  {
   "cell_type": "code",
   "execution_count": null,
   "id": "6e90b000-822c-4162-b289-2537cc83e65e",
   "metadata": {},
   "outputs": [],
   "source": [
    "23.develop a program to categorize a given persons BMI into underweight,normal,overweight, or obese using elif statements"
   ]
  },
  {
   "cell_type": "code",
   "execution_count": 8,
   "id": "d18562ee-82dd-4d02-bced-15018ee59162",
   "metadata": {},
   "outputs": [
    {
     "name": "stdin",
     "output_type": "stream",
     "text": [
      "enter your weight in kg's 60\n",
      "enter your height in meters 1.8\n"
     ]
    },
    {
     "name": "stdout",
     "output_type": "stream",
     "text": [
      "normal weight\n"
     ]
    }
   ],
   "source": [
    "n=int(input(\"enter your weight in kg's\"))\n",
    "n2=float(input(\"enter your height in meters\"))\n",
    "bmi=(n/n2**2)\n",
    "if  bmi<18.5:\n",
    "    print(\"underweight\")\n",
    "elif bmi>=18.5 and bmi<=24.9:\n",
    "    print(\"normal weight\")\n",
    "elif bmi>=25 and bmi<=29.9:\n",
    "    print(\"overweight\")\n",
    "elif bmi>=30 and bmi<=34.9:\n",
    "    print(\"obesity class 1\")\n",
    "elif bmi>=35 and bmi<=39.9:\n",
    "    print(\"obesity class2\")\n",
    "elif bmi >=40:\n",
    "    print(\"extreme obesity\")\n",
    "else:\n",
    "    print(\"enter correct details\")\n"
   ]
  },
  {
   "cell_type": "code",
   "execution_count": null,
   "id": "b6e6d976-79f1-4ab2-a683-bc772caeb2e8",
   "metadata": {},
   "outputs": [],
   "source": [
    "24. Create a program that determines whether a given number is positive, negative, or zero using elif \n",
    "statements."
   ]
  },
  {
   "cell_type": "code",
   "execution_count": 10,
   "id": "76405ae1-e94b-4cbe-9af3-c88ee6e69094",
   "metadata": {},
   "outputs": [
    {
     "name": "stdin",
     "output_type": "stream",
     "text": [
      "enter a number -19\n"
     ]
    },
    {
     "name": "stdout",
     "output_type": "stream",
     "text": [
      "negative\n"
     ]
    }
   ],
   "source": [
    "n=int(input(\"enter a number\"))\n",
    "\n",
    "if n<0:\n",
    "    print(\"negative\")\n",
    "elif n>0:\n",
    "    print(\"positive\")\n",
    "else:\n",
    "    print(\"zero\")\n",
    "        "
   ]
  },
  {
   "cell_type": "code",
   "execution_count": null,
   "id": "7faf046c-50f8-4bcf-bfbe-8e6f94b40b70",
   "metadata": {},
   "outputs": [],
   "source": [
    "25. Write a Python script to determine the type of a character (uppercase, lowercase, or special) using elif \n",
    "statements."
   ]
  },
  {
   "cell_type": "code",
   "execution_count": 14,
   "id": "eafa9407-a7c2-4b3a-a4c9-7a99c4334d84",
   "metadata": {},
   "outputs": [
    {
     "name": "stdin",
     "output_type": "stream",
     "text": [
      "enter a character V\n"
     ]
    },
    {
     "name": "stdout",
     "output_type": "stream",
     "text": [
      "uppercase\n"
     ]
    }
   ],
   "source": [
    "char=input(\"enter a character\")\n",
    "if char.isupper()==True:\n",
    "    print(\"uppercase\")\n",
    "elif char.islower()==True:\n",
    "    print(\"lowercase\")\n",
    "else:\n",
    "    print(\"special character\")\n",
    "    "
   ]
  },
  {
   "cell_type": "markdown",
   "id": "3fbf41a7-13e8-447d-a118-00b2fd2ad407",
   "metadata": {},
   "source": [
    "26.Implement a program to calculate the discounted price based on different purchase amounts using elif \n",
    "statements"
   ]
  },
  {
   "cell_type": "code",
   "execution_count": 15,
   "id": "59e3ea57-fee1-49f9-8dac-cee56c4facbb",
   "metadata": {},
   "outputs": [
    {
     "name": "stdin",
     "output_type": "stream",
     "text": [
      "enter purchase amount 10500\n"
     ]
    },
    {
     "name": "stdout",
     "output_type": "stream",
     "text": [
      "5250.0\n"
     ]
    }
   ],
   "source": [
    "n=int(input(\"enter purchase amount\"))\n",
    "if n>=10000:\n",
    "    discount=n*0.5\n",
    "    print(discount)\n",
    "elif n<=5000:\n",
    "    discount=n*0.25\n",
    "else:\n",
    "    print(\"a chocolate box\")\n"
   ]
  },
  {
   "cell_type": "code",
   "execution_count": null,
   "id": "c481369d-1082-4d1a-9eca-b74150072429",
   "metadata": {},
   "outputs": [],
   "source": [
    "27. Develop a program to calculate the electricity bill based on different consumption slabs using elif \n",
    "statements."
   ]
  },
  {
   "cell_type": "code",
   "execution_count": 19,
   "id": "9369669b-cb06-4011-8991-62b4ae852a2c",
   "metadata": {},
   "outputs": [
    {
     "name": "stdin",
     "output_type": "stream",
     "text": [
      "enter your energy consumption in units 105\n"
     ]
    },
    {
     "name": "stdout",
     "output_type": "stream",
     "text": [
      "735\n"
     ]
    }
   ],
   "source": [
    "ec=int(input(\"enter your energy consumption in units\"))\n",
    "if  ec<=100:\n",
    "    electricitybill=ec*4\n",
    "    print(electricitybill)\n",
    "elif ec>=101 and ec<=300:\n",
    "    electricitybill=ec*7\n",
    "    print(electricitybill)\n",
    "elif ec>=301 and ec<=500:\n",
    "    electricitybill=ec*9\n",
    "    print(electricitybill)\n",
    "elif ec>=500:\n",
    "    electricitybill=ec*10\n",
    "    print(electricitybill)"
   ]
  },
  {
   "cell_type": "code",
   "execution_count": null,
   "id": "4400f61c-5f25-4438-b26d-a8d6697b14be",
   "metadata": {},
   "outputs": [],
   "source": [
    "28. Create a program to determine the type of quadrilateral based on its angles and sides using elif \n",
    "statements."
   ]
  },
  {
   "cell_type": "code",
   "execution_count": 20,
   "id": "2ce558ee-4c15-42c8-ae77-b378ba13e8fd",
   "metadata": {},
   "outputs": [
    {
     "name": "stdin",
     "output_type": "stream",
     "text": [
      "Enter the length of side 1:  6\n",
      "Enter the length of side 2:  6\n",
      "Enter the length of side 3:  6\n",
      "Enter the length of side 4:  6\n",
      "Enter the measure of angle 1 in degrees:  90\n",
      "Enter the measure of angle 2 in degrees:  90\n",
      "Enter the measure of angle 3 in degrees:  90\n",
      "Enter the measure of angle 4 in degrees:  90\n"
     ]
    },
    {
     "name": "stdout",
     "output_type": "stream",
     "text": [
      "It is a square.\n"
     ]
    }
   ],
   "source": [
    "\n",
    "side1 = float(input(\"Enter the length of side 1: \"))\n",
    "side2 = float(input(\"Enter the length of side 2: \"))\n",
    "side3 = float(input(\"Enter the length of side 3: \"))\n",
    "side4 = float(input(\"Enter the length of side 4: \"))\n",
    "angle1 = float(input(\"Enter the measure of angle 1 in degrees: \"))\n",
    "angle2 = float(input(\"Enter the measure of angle 2 in degrees: \"))\n",
    "angle3 = float(input(\"Enter the measure of angle 3 in degrees: \"))\n",
    "angle4 = float(input(\"Enter the measure of angle 4 in degrees: \"))\n",
    "\n",
    "if side1 == side2 == side3 == side4:\n",
    "    if angle1 == angle2 == angle3 == angle4 == 90:\n",
    "        print(\"It is a square.\")\n",
    "    else:\n",
    "        print(\"It is a rhombus.\")\n",
    "elif side1 == side3 and side2 == side4:\n",
    "    if angle1 == angle2 == angle3 == angle4 == 90:\n",
    "        print(\"It is a rectangle.\")\n",
    "    else:\n",
    "        print(\"It is a parallelogram.\")\n",
    "elif angle1 == angle2 == angle3 == angle4 == 90:\n",
    "    print(\"It is a rectangle.\")\n",
    "else:\n",
    "    print(\"It is a normal quadrilateral.\")\n"
   ]
  },
  {
   "cell_type": "code",
   "execution_count": null,
   "id": "8c37081b-c943-46b0-9bf0-ae93bfc752d8",
   "metadata": {},
   "outputs": [],
   "source": [
    "29. Write a Python script to determine the season based on a user-provided month using elif statements"
   ]
  },
  {
   "cell_type": "code",
   "execution_count": 22,
   "id": "3b3e1fb1-5571-44f3-9b4f-3892b09dbe58",
   "metadata": {},
   "outputs": [
    {
     "name": "stdin",
     "output_type": "stream",
     "text": [
      "enter month name in sentence case April\n"
     ]
    },
    {
     "name": "stdout",
     "output_type": "stream",
     "text": [
      "spring\n"
     ]
    }
   ],
   "source": [
    "n=input(\"enter month name in sentence case\")\n",
    "summer=[\"June\",\"July\",\"August\"]\n",
    "winter=[\"December\",\"January\",\"February\"]\n",
    "spring=[\"March\",\"April\",\"May\"]\n",
    "if n in winter:\n",
    "    print(\"winter\")\n",
    "elif n in spring:\n",
    "    print(\"spring\")\n",
    "elif n in summer:\n",
    "    print(\"summer\")\n",
    "else:\n",
    "    print(\"monsoon\")\n"
   ]
  },
  {
   "cell_type": "code",
   "execution_count": null,
   "id": "b58174c5-547c-4def-9dcf-463c3d42b5b9",
   "metadata": {},
   "outputs": [],
   "source": [
    "30. Implement a program to determine the type of a year (leap or common) and month (30 or 31 days) using \n",
    "elif statements."
   ]
  },
  {
   "cell_type": "code",
   "execution_count": 23,
   "id": "e8acb183-911c-4a25-8c41-4f9e73ca563a",
   "metadata": {},
   "outputs": [
    {
     "name": "stdin",
     "output_type": "stream",
     "text": [
      "enter a year 2001\n",
      "enter a month in year(lowercase) 2\n"
     ]
    },
    {
     "name": "stdout",
     "output_type": "stream",
     "text": [
      "28 days and common year\n"
     ]
    }
   ],
   "source": [
    "n1=int(input(\"enter a year\"))\n",
    "n2=int(input(\"enter a month in year(lowercase)\"))\n",
    "if (n1%4==0 and n1%100!=0) or n1%400==0:\n",
    "    if n2==2:\n",
    "        print(\"29 days and leap year\")\n",
    "elif n2 in [1,3,5,7,8,10,12]:\n",
    "       print(\"31 days and leap year\")\n",
    "elif n2 in [4,6,9,11]:\n",
    "       print(\"30 days and leap year\")\n",
    "\n",
    "elif n2==2:\n",
    "       print(\"28 days and common year\")\n",
    "elif n2 in [1,3,5,7,8,10,12]:\n",
    "       print(\"31 days and common year\")\n",
    "elif n2 in [4,6,9,11]:\n",
    "       print(\"30 days and common year\")    \n",
    "       \n",
    "       \n",
    "       \n",
    "       "
   ]
  },
  {
   "cell_type": "code",
   "execution_count": 22,
   "id": "7723e893-c3b2-4237-bb04-f2b33efdb758",
   "metadata": {},
   "outputs": [
    {
     "name": "stdin",
     "output_type": "stream",
     "text": [
      "enter a year 2001\n"
     ]
    },
    {
     "name": "stdout",
     "output_type": "stream",
     "text": [
      "common year\n",
      "('january', 31)\n",
      "('febrauary', 28)\n",
      "('march', 31)\n",
      "('april', 30)\n",
      "('may', 31)\n",
      "('june', 30)\n",
      "('july', 31)\n",
      "('august', 31)\n",
      "('september', 30)\n",
      "('october', 31)\n",
      "('november', 30)\n",
      "('december', 31)\n"
     ]
    }
   ],
   "source": [
    "n1=int(input(\"enter a year\"))\n",
    "months_days={\"january\":31,\"febrauary\":29 if ((n1 % 4 == 0 and n1 % 100 != 0) or (n1 % 400 == 0)) else 28,\"march\":31,\"april\":30,\"may\":31,\"june\":30,\"july\":31,\"august\":31,\"september\":30,\"october\":31,\"november\":30,\"december\":31}\n",
    "if (n1%4==0 and n1%100!=0) or n1%400==0:\n",
    "    print(\"leap year\")\n",
    "else:\n",
    "    print(\"common year\")\n",
    "for i in months_days.items():\n",
    "    print(i)"
   ]
  },
  {
   "cell_type": "markdown",
   "id": "3aebd1e1-72e3-4e8e-8aab-31c7022d498b",
   "metadata": {},
   "source": [
    "BASIC LEVEL QUESTIONS"
   ]
  },
  {
   "cell_type": "code",
   "execution_count": null,
   "id": "0d56162f-b2ec-4fb5-ad71-b12691c1cf80",
   "metadata": {},
   "outputs": [],
   "source": [
    "1.write a python program that checks if a given number is positive,negATIVE OR ZERO."
   ]
  },
  {
   "cell_type": "code",
   "execution_count": 1,
   "id": "a1ef0512-f98a-48f8-ab48-7ce79d3b14bd",
   "metadata": {},
   "outputs": [
    {
     "name": "stdin",
     "output_type": "stream",
     "text": [
      "enter a number 2\n"
     ]
    },
    {
     "name": "stdout",
     "output_type": "stream",
     "text": [
      "positive\n"
     ]
    }
   ],
   "source": [
    "n=int(input(\"enter a number\"))\n",
    "if n!=0:\n",
    "    if n<0:\n",
    "        print(\"negative\")\n",
    "    else:\n",
    "        print(\"positive\")\n",
    "else:\n",
    "    print(\"zero\")\n",
    "        "
   ]
  },
  {
   "cell_type": "code",
   "execution_count": null,
   "id": "717ffbae-4512-400d-b456-ad7a3eafcb0f",
   "metadata": {},
   "outputs": [],
   "source": [
    "2.CREATE A PROGRAM TO DETRMINE IF A PERSON IS ELIGIBLE TO VOTE BASED ON THEIR AGE"
   ]
  },
  {
   "cell_type": "code",
   "execution_count": 2,
   "id": "b67f1f4c-58a1-4a46-b20d-751b97b19237",
   "metadata": {},
   "outputs": [
    {
     "name": "stdin",
     "output_type": "stream",
     "text": [
      "enter age 18\n"
     ]
    },
    {
     "name": "stdout",
     "output_type": "stream",
     "text": [
      "eligible for vote\n"
     ]
    }
   ],
   "source": [
    "a=int(input('enter age'))\n",
    "if a>=18:\n",
    "    print(\"eligible for vote\")\n",
    "else:\n",
    "    print(\"not eligible for vote\")"
   ]
  },
  {
   "cell_type": "code",
   "execution_count": null,
   "id": "7ab05d35-88c8-4ba4-b459-250654ea189c",
   "metadata": {},
   "outputs": [],
   "source": [
    "3.WRITE A PROGRAM TO FIND THE MAXIMUM OF TWO GIVEN NUMBERS USING CONDITIONAL STATEMENTS."
   ]
  },
  {
   "cell_type": "code",
   "execution_count": 3,
   "id": "5b06e8f4-c69f-46e5-936a-411717c46820",
   "metadata": {},
   "outputs": [
    {
     "name": "stdin",
     "output_type": "stream",
     "text": [
      "enter first number 2\n",
      "enter second number 3\n"
     ]
    },
    {
     "name": "stdout",
     "output_type": "stream",
     "text": [
      "b is maximunm\n"
     ]
    }
   ],
   "source": [
    "a=int(input('enter first number'))\n",
    "b=int(input('enter second number'))\n",
    "if a>b:\n",
    "    print('a  is maximum')\n",
    "else:\n",
    "    print('b is maximunm')"
   ]
  },
  {
   "cell_type": "code",
   "execution_count": null,
   "id": "7ba51edb-df33-43ed-92f1-ddb0b087666f",
   "metadata": {},
   "outputs": [],
   "source": [
    "4.DEVELOP A PROGRAM THAT CALCULATES THE GRADE OF A STUDENT BASED ON THEIR EXAM SCORES"
   ]
  },
  {
   "cell_type": "code",
   "execution_count": 4,
   "id": "e53d636e-6353-4cb7-be09-89412ac75e4a",
   "metadata": {},
   "outputs": [
    {
     "name": "stdin",
     "output_type": "stream",
     "text": [
      "enter score 50\n"
     ]
    },
    {
     "name": "stdout",
     "output_type": "stream",
     "text": [
      "D\n"
     ]
    }
   ],
   "source": [
    "score=int(input('enter score'))\n",
    "if 90<=score>=100:\n",
    "    print('A+')\n",
    "elif 80<=score <=90:\n",
    "    print('A')\n",
    "elif score>=70:\n",
    "    print('B')\n",
    "elif score>=60:\n",
    "    print('C')\n",
    "elif score>=50:\n",
    "    print('D')\n",
    "else:\n",
    "    print('FAIL')"
   ]
  },
  {
   "cell_type": "code",
   "execution_count": null,
   "id": "00229afd-86e2-443a-8f73-13aa3c7ba7ce",
   "metadata": {},
   "outputs": [],
   "source": [
    "5.CREATE  APROGRAM THAT CHECKS IF A YEAR IS LEAP OR NOT"
   ]
  },
  {
   "cell_type": "code",
   "execution_count": 5,
   "id": "77d1ea91-ab4e-48dc-be64-c0a4bfeb4729",
   "metadata": {},
   "outputs": [
    {
     "name": "stdin",
     "output_type": "stream",
     "text": [
      "enter year 2025\n"
     ]
    },
    {
     "name": "stdout",
     "output_type": "stream",
     "text": [
      "not leap year\n"
     ]
    }
   ],
   "source": [
    "a=int(input('enter year'))\n",
    "if (a%4==0 and a%100!=0) or a%400==0:\n",
    "    print('leap year')\n",
    "else:\n",
    "    print(\"not leap year\")"
   ]
  },
  {
   "cell_type": "code",
   "execution_count": null,
   "id": "2e36f86a-58f1-4fa0-86eb-86e3c5a0cb7a",
   "metadata": {},
   "outputs": [],
   "source": [
    "6.WRITE A PROGRAM TO CLASSIFY A TRIANGLE BASED ON ITS SIDE'S LENGTHS"
   ]
  },
  {
   "cell_type": "code",
   "execution_count": 6,
   "id": "286ba774-5a52-4700-bbbe-c50d99f1aff4",
   "metadata": {},
   "outputs": [
    {
     "name": "stdin",
     "output_type": "stream",
     "text": [
      "enter first side 5\n",
      "enter second side 6\n",
      "enter third side 7\n"
     ]
    },
    {
     "name": "stdout",
     "output_type": "stream",
     "text": [
      "scalene\n"
     ]
    }
   ],
   "source": [
    "a=int(input('enter first side'))\n",
    "b=int(input('enter second side'))\n",
    "c=int(input('enter third side'))\n",
    "if a==b:\n",
    "    if b==c:\n",
    "        print(\"equilateral\")\n",
    "    else:\n",
    "        print(\"isosceles\")\n",
    "else:\n",
    "    print(\"scalene\")  \n",
    "\n",
    "    "
   ]
  },
  {
   "cell_type": "code",
   "execution_count": null,
   "id": "9555bd7c-de4d-40aa-ae96-e8a73ad83334",
   "metadata": {},
   "outputs": [],
   "source": [
    "7.BUILD A PROGRAM THAT DETERMINES THE LARGEST OF THREE NUMBERS"
   ]
  },
  {
   "cell_type": "code",
   "execution_count": 7,
   "id": "04236615-3125-4c13-8f69-c5ffb4d7940a",
   "metadata": {},
   "outputs": [
    {
     "name": "stdin",
     "output_type": "stream",
     "text": [
      "enter first number 34\n",
      "enter second number 499\n",
      "enter third number 900\n"
     ]
    },
    {
     "name": "stdout",
     "output_type": "stream",
     "text": [
      "c is largest\n"
     ]
    }
   ],
   "source": [
    "a=int(input('enter first number'))\n",
    "b=int(input('enter second number'))\n",
    "c=int(input('enter third number'))\n",
    "if a>b and a>c:\n",
    "    print('a  is largest')\n",
    "elif b>a and b>c:\n",
    "    print('b is largest')\n",
    "else:\n",
    "    print('c is largest')"
   ]
  },
  {
   "cell_type": "code",
   "execution_count": null,
   "id": "98bc5a34-547d-4663-8300-73d41cf4880e",
   "metadata": {},
   "outputs": [],
   "source": [
    "8.DEVELOP A PROGRAM THAT CHECKS WHETHER A CHARACTER IS A VOWEL OR A CONSONANT"
   ]
  },
  {
   "cell_type": "code",
   "execution_count": 8,
   "id": "8006d95d-99f7-4b98-8a80-0215a6feb8c4",
   "metadata": {},
   "outputs": [
    {
     "name": "stdin",
     "output_type": "stream",
     "text": [
      "enter character V\n"
     ]
    },
    {
     "name": "stdout",
     "output_type": "stream",
     "text": [
      "consonant\n"
     ]
    }
   ],
   "source": [
    "a=input('enter character')\n",
    "\n",
    "vowels=['a','e','i','o','u','A','E,''I','O','U']\n",
    "if a in vowels:\n",
    "    print(\"char is vowel\")\n",
    "else:\n",
    "    print(\"consonant\")"
   ]
  },
  {
   "cell_type": "code",
   "execution_count": null,
   "id": "92a9cb0a-4fea-4dd5-bb18-5812e330367e",
   "metadata": {},
   "outputs": [],
   "source": [
    "9.create a program to calculate the total cost of a shopping cart based on discounts"
   ]
  },
  {
   "cell_type": "code",
   "execution_count": 18,
   "id": "46a6b20a-71ea-4da2-b230-deca773b89e5",
   "metadata": {},
   "outputs": [
    {
     "name": "stdin",
     "output_type": "stream",
     "text": [
      "enter purchase amount 12600\n"
     ]
    },
    {
     "name": "stdout",
     "output_type": "stream",
     "text": [
      "total_cost 6300.0\n"
     ]
    }
   ],
   "source": [
    "n=int(input(\"enter purchase amount\"))\n",
    "if n>=10000:\n",
    "    discount=n*0.5\n",
    "    total_cost=(n-discount)\n",
    "    print(\"total_cost\",total_cost)\n",
    "elif n<=5000:\n",
    "    discount=n*0.25\n",
    "    total_cost=(n-discount)\n",
    "    print('total_cost',total_cost)\n",
    "    \n",
    "else:\n",
    "    print(\"a chocolate box\")"
   ]
  },
  {
   "cell_type": "code",
   "execution_count": null,
   "id": "3850515d-7596-4ae6-b697-1c21bfc01fe0",
   "metadata": {},
   "outputs": [],
   "source": [
    "10.WRITE A PROGRAM THAT CHECKS IF A GIVEN NUMBER IS EVEN OR ODD"
   ]
  },
  {
   "cell_type": "code",
   "execution_count": 9,
   "id": "924c82e7-e2b7-4bf6-96f4-5ee55e21f697",
   "metadata": {},
   "outputs": [],
   "source": [
    "def even_odd(n):\n",
    "    if n%2==0:\n",
    "        return 'even'\n",
    "    else:\n",
    "        return 'odd'"
   ]
  },
  {
   "cell_type": "code",
   "execution_count": 10,
   "id": "95f20b42-20e4-47c7-8f20-c38629bf4c99",
   "metadata": {},
   "outputs": [
    {
     "data": {
      "text/plain": [
       "'odd'"
      ]
     },
     "execution_count": 10,
     "metadata": {},
     "output_type": "execute_result"
    }
   ],
   "source": [
    "even_odd(7)"
   ]
  },
  {
   "cell_type": "code",
   "execution_count": null,
   "id": "23e27fa0-189e-4986-859f-6a16097342e6",
   "metadata": {},
   "outputs": [],
   "source": [
    "Intermediate level"
   ]
  },
  {
   "cell_type": "code",
   "execution_count": null,
   "id": "07a51fd9-3a5a-46b1-b3d1-070a825b27b4",
   "metadata": {},
   "outputs": [],
   "source": [
    "11.write a program that calculates the roots of quadratic equation"
   ]
  },
  {
   "cell_type": "code",
   "execution_count": 19,
   "id": "2b9c0bd2-1cb9-461e-9421-464722c90f0e",
   "metadata": {},
   "outputs": [
    {
     "name": "stdin",
     "output_type": "stream",
     "text": [
      "enter coefficient of a 12\n",
      "enter coefficient of b 23\n",
      "enter coefficient of c 15\n"
     ]
    },
    {
     "name": "stdout",
     "output_type": "stream",
     "text": [
      "-2.215390309173472\n",
      "-43.78460969082653\n"
     ]
    }
   ],
   "source": [
    "import math\n",
    "a=int(input(\"enter coefficient of a\"))\n",
    "b=int(input(\"enter coefficient of b\"))\n",
    "c=int(input(\"enter coefficient of c\"))\n",
    "\n",
    "determinant=(b**2)-(4*a*c)\n",
    "root1=(-b+(math.sqrt(a))/2*a)\n",
    "root2=(-b-(math.sqrt(a))/2*a)\n",
    "print(root1)\n",
    "print(root2)"
   ]
  },
  {
   "cell_type": "code",
   "execution_count": null,
   "id": "fa30a729-9a8d-40fe-99c8-95ae1cdd5e8a",
   "metadata": {},
   "outputs": [],
   "source": [
    "12.create a program that detrmine the day of the week based on day number(1-7)"
   ]
  },
  {
   "cell_type": "code",
   "execution_count": 20,
   "id": "732d1af8-46a1-43b3-ae83-20941323f4ea",
   "metadata": {},
   "outputs": [
    {
     "name": "stdin",
     "output_type": "stream",
     "text": [
      "enter a number of day in a week 5\n"
     ]
    },
    {
     "name": "stdout",
     "output_type": "stream",
     "text": [
      "fri\n"
     ]
    }
   ],
   "source": [
    "n=int(input(\"enter a number of day in a week\"))\n",
    "list=[\"monday\",\"tuesday\",\"wed\",\"thur\",\"fri\",\"sat\",\"sun\"]\n",
    "if n>=1 and n<=7:\n",
    "    b=list[n-1]\n",
    "    print(b)\n",
    "else:\n",
    "    print(\"enter correct value between 1 and 8\")"
   ]
  },
  {
   "cell_type": "code",
   "execution_count": null,
   "id": "94d8481a-518a-4637-8bfc-352300083e82",
   "metadata": {},
   "outputs": [],
   "source": [
    "13. develop a program that calculates the factorial of a given number using recursion"
   ]
  },
  {
   "cell_type": "code",
   "execution_count": 5,
   "id": "8f2ccc34-21d7-4740-8666-b12e602579e0",
   "metadata": {},
   "outputs": [
    {
     "data": {
      "text/plain": [
       "120"
      ]
     },
     "execution_count": 5,
     "metadata": {},
     "output_type": "execute_result"
    }
   ],
   "source": [
    "def fact(n):\n",
    "    if n == 1:\n",
    "        return 1\n",
    "    else:\n",
    "        return n*fact(n-1)\n",
    "fact(5)"
   ]
  },
  {
   "cell_type": "code",
   "execution_count": null,
   "id": "e8dbdeae-9278-41f2-a102-40cb69bdab45",
   "metadata": {},
   "outputs": [],
   "source": [
    "14.write a program to find the largest among three numbers without using the max() function"
   ]
  },
  {
   "cell_type": "code",
   "execution_count": 7,
   "id": "714eec0b-c526-443d-8114-89e74cdbc934",
   "metadata": {},
   "outputs": [
    {
     "name": "stdin",
     "output_type": "stream",
     "text": [
      "enter a number: 2\n",
      "enter second number: 4\n",
      "enter third number: 7\n"
     ]
    },
    {
     "name": "stdout",
     "output_type": "stream",
     "text": [
      "largest number: 7\n"
     ]
    }
   ],
   "source": [
    "n1 = int(input(\"enter a number:\"))\n",
    "n2 = int(input(\"enter second number:\"))\n",
    "n3 = int(input(\"enter third number:\"))\n",
    "\n",
    "if n1>n2 and n1>n3:\n",
    "         print(\"largest number:\",n1)\n",
    "elif n2>n1 and n2>n3:\n",
    "         print(\"largest number:\",n2)\n",
    "else:\n",
    "         print(\"largest number:\",n3)\n"
   ]
  },
  {
   "cell_type": "code",
   "execution_count": null,
   "id": "0100021f-36c8-4140-a972-17614ec2b5b0",
   "metadata": {},
   "outputs": [],
   "source": [
    "15. create a program that simulates the basic ATM transaction menu"
   ]
  },
  {
   "cell_type": "code",
   "execution_count": 2,
   "id": "b27b42b4-276a-4cd2-a6c8-e6a54c83ccae",
   "metadata": {},
   "outputs": [
    {
     "name": "stdout",
     "output_type": "stream",
     "text": [
      "\n",
      "ATM Menu:\n",
      "1. Check Balance\n",
      "2. Deposit Funds\n",
      "3. Withdraw Funds\n",
      "4. Exit\n"
     ]
    },
    {
     "name": "stdin",
     "output_type": "stream",
     "text": [
      "Enter your choice (1/2/3/4):  2\n",
      "Enter the amount to deposit:  500\n"
     ]
    },
    {
     "name": "stdout",
     "output_type": "stream",
     "text": [
      "Deposit of  500.0 was successful.\n",
      "Your account balance is:  1500.0\n",
      "Thank you for using this ATM. Goodbye!\n",
      "\n",
      "ATM Menu:\n",
      "1. Check Balance\n",
      "2. Deposit Funds\n",
      "3. Withdraw Funds\n",
      "4. Exit\n"
     ]
    },
    {
     "name": "stdin",
     "output_type": "stream",
     "text": [
      "Enter your choice (1/2/3/4):  3\n",
      "Enter the amount to withdraw: $ 500\n"
     ]
    },
    {
     "name": "stdout",
     "output_type": "stream",
     "text": [
      "Withdrawal of  500.0 was successful.\n",
      "\n",
      "ATM Menu:\n",
      "1. Check Balance\n",
      "2. Deposit Funds\n",
      "3. Withdraw Funds\n",
      "4. Exit\n"
     ]
    },
    {
     "name": "stdin",
     "output_type": "stream",
     "text": [
      "Enter your choice (1/2/3/4):  1\n"
     ]
    },
    {
     "name": "stdout",
     "output_type": "stream",
     "text": [
      "Your account balance is:  1000.0\n",
      "\n",
      "ATM Menu:\n",
      "1. Check Balance\n",
      "2. Deposit Funds\n",
      "3. Withdraw Funds\n",
      "4. Exit\n"
     ]
    },
    {
     "name": "stdin",
     "output_type": "stream",
     "text": [
      "Enter your choice (1/2/3/4):  4\n"
     ]
    },
    {
     "name": "stdout",
     "output_type": "stream",
     "text": [
      "Thank you for using this ATM. Goodbye!\n"
     ]
    }
   ],
   "source": [
    "\n",
    "account_balance = 1000.0  \n",
    "\n",
    "def check_balance():\n",
    "    print(\"Your account balance is: \", account_balance)\n",
    "\n",
    "def deposit_funds():\n",
    "    global account_balance \n",
    "    amount = float(input(\"Enter the amount to deposit: \"))\n",
    "    account_balance += amount\n",
    "    print(\"Deposit of \", amount, \"was successful.\")\n",
    "    check_balance()\n",
    "    print(\"Thank you for using this ATM. Goodbye!\")\n",
    "\n",
    "def withdraw_funds():\n",
    "    global account_balance \n",
    "    amount = float(input(\"Enter the amount to withdraw: $\"))\n",
    "    if amount <= account_balance:\n",
    "        account_balance -= amount\n",
    "        print(\"Withdrawal of \", amount, \"was successful.\")\n",
    "    else:\n",
    "        print(\"Insufficient funds. Your balance is: \", account_balance)\n",
    "while True:\n",
    "    print(\"\\nATM Menu:\")\n",
    "    print(\"1. Check Balance\")\n",
    "    print(\"2. Deposit Funds\")\n",
    "    print(\"3. Withdraw Funds\")\n",
    "    print(\"4. Exit\")\n",
    "\n",
    "    choice = input(\"Enter your choice (1/2/3/4): \")\n",
    "\n",
    "    if choice == '1':\n",
    "        check_balance()\n",
    "    elif choice == '2':\n",
    "        deposit_funds()\n",
    "    elif choice == '3':\n",
    "        withdraw_funds()\n",
    "    elif choice == '4':\n",
    "        print(\"Thank you for using this ATM. Goodbye!\")\n",
    "        break\n",
    "    else:\n",
    "        print(\"Invalid choice. Please select a valid option.\")\n"
   ]
  },
  {
   "cell_type": "code",
   "execution_count": null,
   "id": "0fb23a95-9dc6-423e-8979-49bdc7c5adc4",
   "metadata": {},
   "outputs": [],
   "source": [
    "16.build a program that checks if a given string is palindrome or not "
   ]
  },
  {
   "cell_type": "code",
   "execution_count": 10,
   "id": "5ec47c2a-1a10-4f1a-8008-c974dc2ede71",
   "metadata": {},
   "outputs": [
    {
     "name": "stdin",
     "output_type": "stream",
     "text": [
      "enter a string sos\n"
     ]
    },
    {
     "name": "stdout",
     "output_type": "stream",
     "text": [
      "palindrome\n"
     ]
    }
   ],
   "source": [
    "s = input(\"enter a string\")\n",
    "if s == s[::-1]:\n",
    "    print(\"palindrome\")\n",
    "else:\n",
    "    print(\"not palindrome\")"
   ]
  },
  {
   "cell_type": "code",
   "execution_count": null,
   "id": "f324240e-a19f-4209-8bf8-d4be139f1762",
   "metadata": {},
   "outputs": [],
   "source": [
    "17.write a program that calculates average of a list of numbers,excluding the smallesta nd largest values"
   ]
  },
  {
   "cell_type": "code",
   "execution_count": 14,
   "id": "605347c0-c630-455f-b4bc-1f587d4d8aac",
   "metadata": {},
   "outputs": [
    {
     "name": "stdout",
     "output_type": "stream",
     "text": [
      "6.6\n"
     ]
    }
   ],
   "source": [
    "\n",
    "numbers = [10, 5, 7, 2, 8, 15, 3]\n",
    "if len(numbers) >= 3:\n",
    "    min_value = min(numbers)\n",
    "    max_value = max(numbers)\n",
    "    numbers.remove(min_value)\n",
    "    numbers.remove(max_value)\n",
    "\n",
    "    sum_of_remaining = sum(numbers)\n",
    "    average = sum_of_remaining / len(numbers)\n",
    "\n",
    "    print(average)\n",
    "else:\n",
    "    print(\"There must be at least 3 numbers in the list to calculate the average\")\n"
   ]
  },
  {
   "cell_type": "code",
   "execution_count": null,
   "id": "19c060e4-7fc4-43d2-8972-ebc82304117e",
   "metadata": {},
   "outputs": [],
   "source": [
    "18.develop a program that converts a given temperature from celsius to fahrenheit"
   ]
  },
  {
   "cell_type": "code",
   "execution_count": 2,
   "id": "cc1fc957-d5f6-46e1-83e1-bbc27f1339be",
   "metadata": {},
   "outputs": [
    {
     "name": "stdin",
     "output_type": "stream",
     "text": [
      "enter temperature in celsius 3\n"
     ]
    },
    {
     "name": "stdout",
     "output_type": "stream",
     "text": [
      "37.4\n"
     ]
    }
   ],
   "source": [
    "temp=int(input(\"enter temperature in celsius\"))\n",
    "farenheit=(temp*9/5)+32\n",
    "print(farenheit)"
   ]
  },
  {
   "cell_type": "code",
   "execution_count": null,
   "id": "3862adea-db17-4a8e-a04c-69352c252450",
   "metadata": {},
   "outputs": [],
   "source": [
    "19.create a program that simulates a basic claculator for addition,subtraction,multiplication, and division"
   ]
  },
  {
   "cell_type": "code",
   "execution_count": 17,
   "id": "e6ea98a4-83a4-45f0-aeb0-c204f8493e10",
   "metadata": {},
   "outputs": [
    {
     "name": "stdout",
     "output_type": "stream",
     "text": [
      "calculator\n",
      "1.addition\n",
      "2.sub\n",
      "3.mul\n",
      "4.div\n",
      "5.exit\n"
     ]
    },
    {
     "name": "stdin",
     "output_type": "stream",
     "text": [
      "option 1\n",
      "enter num 4\n",
      "enter num 5\n"
     ]
    },
    {
     "name": "stdout",
     "output_type": "stream",
     "text": [
      "9\n",
      "None\n",
      "calculator\n",
      "1.addition\n",
      "2.sub\n",
      "3.mul\n",
      "4.div\n",
      "5.exit\n"
     ]
    },
    {
     "name": "stdin",
     "output_type": "stream",
     "text": [
      "option 5\n"
     ]
    }
   ],
   "source": [
    "def addition():\n",
    "    n=int(input(\"enter num\"))\n",
    "    n2=int(input(\"enter num\"))\n",
    "    print(n+n2)\n",
    "def sub():\n",
    "    n=int(input(\"enter num\"))\n",
    "    n2=int(input(\"enter num\"))\n",
    "    if n>n2:\n",
    "        print(n-n2)\n",
    "    else:\n",
    "        print(n2-n)\n",
    "def mul():\n",
    "    n=int(input(\"enter num\"))\n",
    "    n2=int(input(\"enter num\"))\n",
    "    print(n*n2)\n",
    "def div():\n",
    "    n=int(input(\"enter num\"))\n",
    "    n2=int(input(\"enter num\"))\n",
    "    print(n/n2)\n",
    "while True:\n",
    "    print(\"calculator\")\n",
    "    print(\"1.addition\")\n",
    "    print(\"2.sub\")\n",
    "    print(\"3.mul\")\n",
    "    print(\"4.div\")\n",
    "    print(\"5.exit\")\n",
    "    user_choice=input(\"option\")\n",
    "    if user_choice==\"1\":\n",
    "        result=addition()\n",
    "    elif user_choice == \"sub\":\n",
    "        result = sub()\n",
    "    elif user_choice == \"mul\":\n",
    "        result = mul()\n",
    "    elif user_choice == \"div\":\n",
    "        result = div()\n",
    "    \n",
    "    elif choice==\"5\":\n",
    "        break\n",
    "    print(result)"
   ]
  },
  {
   "cell_type": "code",
   "execution_count": null,
   "id": "4ff65b04-4ff3-4999-b6ac-e585db2362f2",
   "metadata": {},
   "outputs": [],
   "source": [
    "20.write a program that determines the roots of  acubic equation using cardano formula"
   ]
  },
  {
   "cell_type": "code",
   "execution_count": 17,
   "id": "47e44f79-ad7f-40fa-bbcb-9e1b61f84949",
   "metadata": {},
   "outputs": [
    {
     "data": {
      "text/plain": [
       "((0.38665754937039665+0.6917165760396963j),\n",
       " (0.13488201905063568-0.5463539058342217j),\n",
       " (-1.063206235087699-0.1453626702054745j))"
      ]
     },
     "execution_count": 17,
     "metadata": {},
     "output_type": "execute_result"
    }
   ],
   "source": [
    "def solve(a,b,c,d):\n",
    "    Q = (3*a*c - (b**2)) / (9*(a**2))\n",
    "    R = (9*a*b*c - 27*(a**2)*d - 2*(b**3)) / (54*(a**3))\n",
    "    D = (Q**3) + (R**2)\n",
    "    S = (R + (D**(1/2)))**(1/3)\n",
    "    T = (R - (D**(1/2)))**(1/3)\n",
    "\n",
    "    x1 = S + T - (b/(3*a))\n",
    "    x2 = -((S + T)/2) - (b/(3*a)) + 0.5j * (3**(1/2)) * (S - T)\n",
    "    x3 = -((S + T)/2) - (b/(3*a)) - 0.5j * (3**(1/2)) * (S - T)\n",
    "\n",
    "    return (x1,x2,x3)\n",
    "solve(24,13,12,14)"
   ]
  },
  {
   "cell_type": "code",
   "execution_count": null,
   "id": "9ba2a97b-4e1b-421a-9387-e35cf697224c",
   "metadata": {},
   "outputs": [],
   "source": [
    "Advanced level"
   ]
  },
  {
   "cell_type": "code",
   "execution_count": null,
   "id": "0fae9963-2baf-4179-a791-7cedf4554592",
   "metadata": {},
   "outputs": [],
   "source": [
    "21.create a program that calculates the income tax based on the users income and tax brackets"
   ]
  },
  {
   "cell_type": "code",
   "execution_count": 18,
   "id": "b4061b5e-d01d-489e-8b5f-87597859da16",
   "metadata": {},
   "outputs": [
    {
     "name": "stdin",
     "output_type": "stream",
     "text": [
      "enter your salary 20000\n"
     ]
    },
    {
     "name": "stdout",
     "output_type": "stream",
     "text": [
      "income tax: 4499.75\n"
     ]
    }
   ],
   "source": [
    "tax_brackets=[(0,10000,0.20),(10001,20000,0.25),(20001,30000,0.30),(30001,float('inf'),0.35)]\n",
    "salary=int(input(\"enter your salary\"))\n",
    "total_tax=0\n",
    "for i in tax_brackets:\n",
    "    min_income,max_income,tax_rate=i\n",
    "    if salary>=min_income:\n",
    "        if salary<=max_income:\n",
    "            taxable_income=salary-min_income\n",
    "        else:\n",
    "            taxable_income=max_income-min_income\n",
    "        tax=taxable_income*tax_rate\n",
    "        total_tax=total_tax+tax\n",
    "print(\"income tax:\",total_tax)"
   ]
  },
  {
   "cell_type": "code",
   "execution_count": null,
   "id": "9380abb9-9812-4085-8885-0b186df9f0f3",
   "metadata": {},
   "outputs": [],
   "source": [
    "22. Write a program that simulates a rock-paper-scissors game against the computer."
   ]
  },
  {
   "cell_type": "code",
   "execution_count": 48,
   "id": "efc05506-b715-4f0d-ae73-137a62adad6e",
   "metadata": {},
   "outputs": [
    {
     "name": "stdin",
     "output_type": "stream",
     "text": [
      "enter your choice:rock,paper or scissors papers\n"
     ]
    },
    {
     "name": "stdout",
     "output_type": "stream",
     "text": [
      "rock\n",
      "computer wins\n"
     ]
    }
   ],
   "source": [
    "import random\n",
    "list1=[\"rock\",'papers','scissor']\n",
    "user_choice=input(\"enter your choice:rock,paper or scissors\")\n",
    "computer_choice=random.choice(list1)\n",
    "print(computer_choice)\n",
    "if user_choice==computer_choice:\n",
    "    print(\"tie\")\n",
    "elif user_choice==\"rock\" and computer_choice==\"scissors\":\n",
    "    print(\"you wins\")\n",
    "elif user_choice==\"scissors\" and computer_choice==\"paper\":\n",
    "    print(\"you wins\")\n",
    "elif user_choice==\"paper\" and computer_choice==\"rock\":\n",
    "    print(\"you wins\")\n",
    "else:\n",
    "    print(\"computer wins\")\n",
    "    \n",
    "    "
   ]
  },
  {
   "cell_type": "code",
   "execution_count": null,
   "id": "361262c6-3848-476b-918b-3da0a5f620bb",
   "metadata": {},
   "outputs": [],
   "source": [
    "23. Develop a program that generates a random password based on user preferences (length,complexity)"
   ]
  },
  {
   "cell_type": "code",
   "execution_count": 22,
   "id": "acdac233-a6e9-42ef-9864-f75ed4edc77c",
   "metadata": {},
   "outputs": [
    {
     "data": {
      "text/plain": [
       "'htz-db6n'"
      ]
     },
     "execution_count": 22,
     "metadata": {},
     "output_type": "execute_result"
    }
   ],
   "source": [
    "import random\n",
    "\n",
    "def password(length,complexity):\n",
    "    lowercase_letters = 'abcdefghijklmnopqrstuvwxyz'\n",
    "    uppercase_letters = 'ABCDEFGHIJKLMNOPQRSTUVWXYZ'\n",
    "    digits = '0123456789'\n",
    "    special_characters = '!@#$%^&*()_+-=[]{}|;:,.<>?'\n",
    "    \n",
    "    all_characters = ''\n",
    "    if 'lowercase' in complexity:\n",
    "        all_characters += lowercase_letters\n",
    "    if 'uppercase' in complexity:\n",
    "        all_characters += uppercase_letters\n",
    "    if 'digits' in complexity:\n",
    "        all_characters += digits\n",
    "    if 'special' in complexity:\n",
    "        all_characters += special_characters\n",
    "        \n",
    "    if not all_characters:\n",
    "        print(\"Please select at least one complexity type.\")\n",
    "        return None\n",
    "    \n",
    "    password = ''\n",
    "    for i in range(length):\n",
    "        password += random.choice(all_characters)\n",
    "\n",
    "    return password\n",
    "\n",
    "password(8,['digits','uppercase','lowercase','special'])"
   ]
  },
  {
   "cell_type": "code",
   "execution_count": null,
   "id": "1ecf220d-8082-423a-a742-79aa2c2af98e",
   "metadata": {},
   "outputs": [],
   "source": [
    "24. Create a program that implements a simple text-based adventure game with branching scenarios.\n"
   ]
  },
  {
   "cell_type": "code",
   "execution_count": 10,
   "id": "d52ee0f6-1d22-408f-9d95-92c3a4d83486",
   "metadata": {},
   "outputs": [
    {
     "name": "stdout",
     "output_type": "stream",
     "text": [
      "You are coming to a forest.\n",
      "Open gates.\n",
      "What happens next?\n",
      "You entered the forest. Be ready for the adventure!\n"
     ]
    },
    {
     "name": "stdin",
     "output_type": "stream",
     "text": [
      "Choose 1 for animals, 2 for birds  1\n"
     ]
    },
    {
     "name": "stdout",
     "output_type": "stream",
     "text": [
      "You are entering the animal zone.\n"
     ]
    },
    {
     "name": "stdin",
     "output_type": "stream",
     "text": [
      "Enter which animal you want to see, lion or tiger:  lion\n"
     ]
    },
    {
     "name": "stdout",
     "output_type": "stream",
     "text": [
      "A lion is in front of you. Take care!\n"
     ]
    },
    {
     "name": "stdin",
     "output_type": "stream",
     "text": [
      "Do you want to play again? (yes/no):  no\n"
     ]
    },
    {
     "name": "stdout",
     "output_type": "stream",
     "text": [
      "Thanks for playing. Goodbye!\n"
     ]
    }
   ],
   "source": [
    "def forest():\n",
    "    print(\"You are coming to a forest.\")\n",
    "    print(\"Open gates.\")\n",
    "    print(\"What happens next?\")\n",
    "    print(\"You entered the forest. Be ready for the adventure!\")\n",
    "\n",
    "    choice = input(\"Choose 1 for animals, 2 for birds \")\n",
    "    return choice\n",
    "\n",
    "def animals():\n",
    "    print(\"You are entering the animal zone.\")\n",
    "    animal_choice = input(\"Enter which animal you want to see, lion or tiger: \")\n",
    "    if animal_choice.lower() == \"lion\":\n",
    "        print(\"A lion is in front of you. Take care!\")\n",
    "    elif animal_choice.lower() == \"tiger\":\n",
    "        print(\"A tiger is eating. Don't disturb.\")\n",
    "\n",
    "def birds():\n",
    "    print(\"You are entering the bird zone.\")\n",
    "    print(\"See the birds.\")\n",
    "\n",
    "while True:\n",
    "    user_choice = forest()\n",
    "\n",
    "    if user_choice == \"1\":\n",
    "        animals()\n",
    "    elif user_choice == \"2\":\n",
    "        birds()\n",
    "    \n",
    "    else:\n",
    "        print(\"Invalid choice. Please enter 1, 2\")\n",
    "        \n",
    "    play_again = input(\"Do you want to play again? (yes/no): \")\n",
    "    if play_again.lower() != \"yes\":\n",
    "        print(\"Thanks for playing. Goodbye!\")\n",
    "        break\n"
   ]
  },
  {
   "cell_type": "code",
   "execution_count": null,
   "id": "dce440f8-7b30-4c0e-8a78-f256ed76e676",
   "metadata": {},
   "outputs": [],
   "source": [
    "25. Build a program that solves a linear equation  for x, considering different cases.\n"
   ]
  },
  {
   "cell_type": "code",
   "execution_count": 42,
   "id": "01bbe290-3447-4073-9b43-5933fa50fb59",
   "metadata": {},
   "outputs": [
    {
     "name": "stdout",
     "output_type": "stream",
     "text": [
      "value of x: -0.0\n",
      "Infinite solutions; the equation is always true.\n",
      "invalid: enter numeric values\n"
     ]
    }
   ],
   "source": [
    "def linear_equ(a,b):\n",
    "\n",
    "    try:\n",
    "        a = float(a)\n",
    "        b = float(b)\n",
    "        if a!=0:\n",
    "            x = -b / a\n",
    "            print(\"value of x:\",x)\n",
    "        \n",
    "        elif a==0 and b!=0:\n",
    "            print(\"no solution,equation is inconsistent\")\n",
    "    \n",
    "        else:\n",
    "            print(\"Infinite solutions; the equation is always true.\")\n",
    "    except ValueError:\n",
    "        print(\"invalid: enter numeric values\")\n",
    "\n",
    "\n",
    "\n",
    "x = linear_equ(1,0)\n",
    "y =  linear_equ(0,0)\n",
    "z = linear_equ('v',1)\n"
   ]
  },
  {
   "cell_type": "code",
   "execution_count": null,
   "id": "8df2491b-1d6a-49d3-b731-a26d43817f16",
   "metadata": {},
   "outputs": [],
   "source": [
    "26. Write a program that simulates a basic quiz game with multiple-choice questions and scoring.\n"
   ]
  },
  {
   "cell_type": "code",
   "execution_count": null,
   "id": "678c78fe-328d-40fe-9e1c-ba5136b7bfa4",
   "metadata": {},
   "outputs": [],
   "source": [
    "question = [\"what is language of germany?\",\"does german uni have fees\"]\n",
    "answers = [\"options "
   ]
  }
 ],
 "metadata": {
  "kernelspec": {
   "display_name": "Python 3 (ipykernel)",
   "language": "python",
   "name": "python3"
  },
  "language_info": {
   "codemirror_mode": {
    "name": "ipython",
    "version": 3
   },
   "file_extension": ".py",
   "mimetype": "text/x-python",
   "name": "python",
   "nbconvert_exporter": "python",
   "pygments_lexer": "ipython3",
   "version": "3.10.8"
  }
 },
 "nbformat": 4,
 "nbformat_minor": 5
}
